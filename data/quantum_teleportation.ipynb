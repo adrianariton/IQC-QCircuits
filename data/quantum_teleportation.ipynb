{
 "cells": [
  {
   "cell_type": "code",
   "execution_count": null,
   "metadata": {},
   "outputs": [],
   "source": [
    "!pip3 install qcircuits"
   ]
  },
  {
   "attachments": {},
   "cell_type": "markdown",
   "metadata": {},
   "source": [
    "If the instructions presented in the README.md file were correctly followed, QCircuits should be correctly installed, and we can begin using the library!"
   ]
  },
  {
   "cell_type": "code",
   "execution_count": null,
   "metadata": {},
   "outputs": [],
   "source": [
    "import qcircuits as qc"
   ]
  },
  {
   "attachments": {},
   "cell_type": "markdown",
   "metadata": {},
   "source": [
    "Let's see how writing code with **qcircuits** actially looks like!\n",
    "\n",
    "This function is the well known quantum teleportation algorithm!"
   ]
  },
  {
   "cell_type": "code",
   "execution_count": null,
   "metadata": {},
   "outputs": [],
   "source": [
    "def quantum_teleportation(alice_state):\n",
    "    # Get operators we will need\n",
    "    CNOT = qc.CNOT()\n",
    "    H = qc.Hadamard()\n",
    "    X = qc.PauliX()\n",
    "    Z = qc.PauliZ()\n",
    "\n",
    "    # The prepared, shared Bell state\n",
    "    bell = qc.bell_state(0, 0)\n",
    "    \n",
    "    # The whole state vector\n",
    "    state = alice_state * bell\n",
    "\n",
    "    # Apply CNOT and Hadamard gate\n",
    "    state = CNOT(state, qubit_indices=[0, 1])\n",
    "    state = H(state, qubit_indices=[0])\n",
    "\n",
    "    # Measure the first two bits\n",
    "    # The only uncollapsed part of the state vector is Bob's\n",
    "    M1, M2 = state.measure(qubit_indices=[0, 1], remove=True)\n",
    "\n",
    "    # Apply X and/or Z gates to third qubit depending on measurements\n",
    "    if M2:\n",
    "        state = X(state)\n",
    "    if M1:\n",
    "        state = Z(state)\n",
    "\n",
    "    return state"
   ]
  },
  {
   "attachments": {},
   "cell_type": "markdown",
   "metadata": {},
   "source": [
    "![qtelimg][def]\n",
    "\n",
    "[def]: teleport.png"
   ]
  },
  {
   "attachments": {},
   "cell_type": "markdown",
   "metadata": {},
   "source": [
    "As you can see, writing code with QCircuits is fairly easy and elegant and therefore, beginer friendly!\n",
    "\n",
    "Let's take the function step by step!"
   ]
  },
  {
   "attachments": {},
   "cell_type": "markdown",
   "metadata": {},
   "source": [
    "## Let's try to understand a little how qcircuit simulates quantum circuits\n"
   ]
  },
  {
   "attachments": {},
   "cell_type": "markdown",
   "metadata": {},
   "source": [
    "- First of all we define our operators:\n",
    "```python\n",
    "    CNOT = qc.CNOT()\n",
    "    H = qc.Hadamard()\n",
    "    X = qc.PauliX()\n",
    "    Z = qc.PauliZ()\n",
    "```\n",
    "- We initialize our needed state to the bell state:\n",
    "\n",
    "![bell state](\"https://upload.wikimedia.org/wikipedia/commons/f/fc/The_Hadamard-CNOT_transform_on_the_zero-state.png\")\n",
    "\n",
    "```python\n",
    "    bell = qc.bell_state(0, 0)\n",
    "```\n",
    "- We multiply (tensorial multiplication) the alice_state and out newly generated bell pair\n",
    "```python\n",
    "    state = alice_state * bell\n",
    "```\n",
    "This is mandatory, because qcircuits needs to keep track of all the qubits in a single vector type.\n",
    "The qubits positions will be determined as such:\n",
    "$$| \\psi \\rangle = q_0$$\n",
    "The EPR pair:$$| \\beta_{00} \\rangle = q_{[1,2]}$$\n",
    "\n",
    "- Afterwards, the inverse of the entanglement is performed\n",
    "```python\n",
    "    state = CNOT(state, qubit_indices=[0, 1])\n",
    "    state = H(state, qubit_indices=[0])\n",
    "```\n",
    "\n",
    "- And then the state is measured\n",
    "\n",
    "```python\n",
    "    M1, M2 = state.measure(qubit_indices=[0, 1], remove=True)\n",
    "\n",
    "    # Apply X and/or Z gates to third qubit depending on measurements\n",
    "    if M2:\n",
    "        state = X(state)\n",
    "    if M1:\n",
    "        state = Z(state)\n",
    "```"
   ]
  }
 ],
 "metadata": {
  "language_info": {
   "name": "python"
  },
  "orig_nbformat": 4
 },
 "nbformat": 4,
 "nbformat_minor": 2
}
